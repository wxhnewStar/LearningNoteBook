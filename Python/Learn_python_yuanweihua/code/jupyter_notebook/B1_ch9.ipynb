{
 "cells": [
  {
   "cell_type": "code",
   "execution_count": 2,
   "id": "135dacf1-0b1c-4f21-8dd5-677bb525a915",
   "metadata": {
    "tags": []
   },
   "outputs": [
    {
     "name": "stdout",
     "output_type": "stream",
     "text": [
      "矩形周长\n",
      "30\n",
      "矩形面积\n",
      "100\n"
     ]
    }
   ],
   "source": [
    "# 定义一个名为Rectangle的类\n",
    "class Rectangle:\n",
    "# 创建Rectangle对象时执行一些初始化工作\n",
    "    def __init__(self, width, height):\n",
    "# 设置实例变量self.width来存储传入的宽度参数\n",
    "        self.width = width\n",
    "# 设置实例变量self.height来存储传入的高度参数\n",
    "        self.height = height\n",
    "# 定义一个名为circumference的方法，用于计算矩形的周长\n",
    "    def circumference(self):\n",
    "# 返回矩形的周长，计算公式为2*(宽度 + 高度)\n",
    "        return 2*(self.width + self.height)\n",
    "# 定义一个名为area的方法，用于计算矩形的面积\n",
    "    def area(self):\n",
    "# 返回矩形的面积，计算公式为宽度 * 高度\n",
    "        return self.width * self.height\n",
    "# 使用Rectangle类\n",
    "# 定义矩形，宽5，高10\n",
    "rect_width_5_height_10 = Rectangle(5, 10)\n",
    "print('矩形周长')\n",
    "print(rect_width_5_height_10.circumference())\n",
    "print('矩形面积')\n",
    "print(rect_width_5_height_10.area()*2)"
   ]
  },
  {
   "cell_type": "code",
   "execution_count": 4,
   "id": "77ca1e86-b86e-43f4-91aa-93d376b549df",
   "metadata": {},
   "outputs": [
    {
     "name": "stdout",
     "output_type": "stream",
     "text": [
      "列表长度： 8\n",
      "列表和： 41.4\n",
      "列表平均值： 5.175\n",
      "列表方差： 6.247857142857144\n",
      "列表方差 (ddof = 0): 5.466875000000001\n"
     ]
    }
   ],
   "source": [
    "# 创建 ListStatistics 类\n",
    "class ListStatistics:\n",
    "# 构造函数，用于初始化属性\n",
    "    def __init__(self, data):\n",
    "# ListStatistics包含一个data属性来存储浮点数列表\n",
    "        self.data = data\n",
    "# 下面定义了4个方法\n",
    "# 方法1：计算列表的长度，即元素的数量\n",
    "    def list_length(self):\n",
    "        return len(self.data)\n",
    "# 方法2：计算列表元素之和\n",
    "    def list_sum(self):\n",
    "        return sum(self.data)\n",
    "# 方法3：计算列表元素平均值\n",
    "    def list_mean(self):\n",
    "        return sum(self.data)/self.list_length()\n",
    "# 方法4：计算列表元素方差\n",
    "    def list_variance(self, ddof = 1):\n",
    "# Delta自由度 ddof 默认为 1；无偏样本方差\n",
    "        sum_squares = sum((x_i - self.list_mean())**2 for x_i in self.data)\n",
    "        return sum_squares/(self.list_length() - ddof)\n",
    "\n",
    "# 创建一个浮点数列表\n",
    "data = [8.8, 1.8, 7.8, 3.8, 2.8, 5.6, 3.9, 6.9]\n",
    "# 创建ListStatistics对象实例\n",
    "float_list = ListStatistics(data)\n",
    "# 使用float_list对象计算列表长度\n",
    "print(\"列表长度：\", float_list.list_length())\n",
    "# 使用float_list对象计算列表和\n",
    "print(\"列表和：\", float_list.list_sum())\n",
    "# 使用float_list对象计算列表平均值\n",
    "print(\"列表平均值：\", float_list.list_mean())\n",
    "# 使用float_list对象计算列表方差\n",
    "print(\"列表方差：\", float_list.list_variance())\n",
    "print(\"列表方差 (ddof = 0):\",\n",
    "float_list.list_variance(0))"
   ]
  },
  {
   "cell_type": "markdown",
   "id": "625c0e90",
   "metadata": {},
   "source": [
    "样本无偏方差(sample unbiased variance)是统计学中用于衡量样本数据的离散程度的一种度量。它用于估计总体方差,并通过样本数据提供对总体方差的无偏估计。\n",
    "\n",
    "无偏方差的计算基于样本数据的离差(偏差)平方的平均值。离差是指每个观测值与样本均值之间的差异。方差衡量了这些离差的平均值,反映了数据的离散程度。\n",
    "\n",
    "样本无偏方差的计算公式如下:\n",
    "\n",
    "$$ s^2 = \\frac{\\sum_{i=1}^{n}(x_i - \\bar{x})^2}{n-1} $$\n",
    "\n",
    "其中,$n$ 是样本的大小(观测值的数量),$(x_i)$ 是第$i$个观测值,$(\\bar{x})$是样本的均值。\n",
    "\n",
    "需要注意的是,样本无偏方差的分母是$(n-1)$而不是$(n)$。这是因为在计算样本方差时,使用$(n-1)$而不是$(n)$作为分母可以提供一个无偏估计,更接近总体方差的真实值。\n",
    "\n",
    "无偏方差的一个重要特性是,当样本大小足够大时,它趋近于总体方差。因此,在统计推断和假设检验等应用中,样本无偏方差常用于估计总体方差,并进行参数估计和统计推断的计算。\n",
    "\n",
    "总结起来,样本无偏方差是一种用于衡量样本数据离散程度的统计量,它通过样本数据提供对总体方差的无偏估计。它在统计学和数据分析中具有重要的应用和意义。\n",
    "\n",
    "假设我们有一个包含 $(n)$ 个观测值的样本数据集。当我们计算样本方差时,使用 $(n)$ 作为分母时会得到一个有偏估计,即方差的估计值偏向低估。这是由于方差的计算中使用了样本均值作为中心点,而样本均值本身是通过观测值的平均计算得到的。\n",
    "\n",
    "使用 $(n-1)$ 作为分母可以纠正这种偏差。通过将分母减去1,我们在估计方差时惩罚了自由度的损失。自由度(degrees of freedom)指的是在计算中可变动的观测值的个数。在计算样本均值时,我们使用了 $(n)$ 个观测值,因此失去了一个自由度。通过使用 $(n-1)$ 作为分母,我们纠正了这个自由度的损失,使得方差的估计更加准确。"
   ]
  },
  {
   "cell_type": "code",
   "execution_count": 5,
   "id": "71ed87c3",
   "metadata": {},
   "outputs": [
    {
     "name": "stdout",
     "output_type": "stream",
     "text": [
      "<class '__main__.LiatStatisticsTest'>\n",
      "check list data types!\n",
      "错误：列表中元素必须全部是数值\n",
      "In getter funciton!\n",
      "1\n"
     ]
    }
   ],
   "source": [
    "class LiatStatisticsTest:\n",
    "    def __init__(self, list = None) -> None:\n",
    "        self._list = list\n",
    "    \n",
    "    @property\n",
    "    def my_data(self):\n",
    "        return self._list\n",
    "    \n",
    "    @my_data.getter # 设置以后,获取该属性会调用这个函数,并得到这个函数的返回值! 亏贼\n",
    "    def my_data(self):\n",
    "        print(\"In getter funciton!\")\n",
    "        return 1\n",
    "\n",
    "    @my_data.setter\n",
    "    def my_data(self, new_list):\n",
    "        print(\"check list data types!\")\n",
    "        if self._are_all_numeric(new_list):\n",
    "            self._list = new_list\n",
    "        else:\n",
    "            print(\"错误：列表中元素必须全部是数值\")\n",
    "\n",
    "    @classmethod\n",
    "    def _are_all_numeric(cls, input_list):\n",
    "        for element in input_list:\n",
    "            if not isinstance(element, (int, float)):\n",
    "                return False\n",
    "        return True\n",
    "\n",
    "    \n",
    "data = [8.8, 1.8, 7.8, 3.8, 2.8, 5.6, '3.9', 6.9]\n",
    "float_list_obj = LiatStatisticsTest([1,12])\n",
    "\n",
    "print(type(float_list_obj))\n",
    "\n",
    "float_list_obj.my_data = data\n",
    "\n",
    "print(float_list_obj.my_data)"
   ]
  }
 ],
 "metadata": {
  "kernelspec": {
   "display_name": "Python 3 (ipykernel)",
   "language": "python",
   "name": "python3"
  },
  "language_info": {
   "codemirror_mode": {
    "name": "ipython",
    "version": 3
   },
   "file_extension": ".py",
   "mimetype": "text/x-python",
   "name": "python",
   "nbconvert_exporter": "python",
   "pygments_lexer": "ipython3",
   "version": "3.10.13"
  }
 },
 "nbformat": 4,
 "nbformat_minor": 5
}
