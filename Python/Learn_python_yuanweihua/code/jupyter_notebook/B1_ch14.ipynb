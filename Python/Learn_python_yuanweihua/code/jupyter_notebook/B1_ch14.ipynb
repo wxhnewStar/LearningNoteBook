{
 "cells": [
  {
   "cell_type": "markdown",
   "metadata": {},
   "source": [
    "## 行向量 列向量 squeeze newaxis"
   ]
  },
  {
   "cell_type": "code",
   "execution_count": 2,
   "metadata": {},
   "outputs": [
    {
     "name": "stdout",
     "output_type": "stream",
     "text": [
      "a: [-5 -4 -3 -2 -1  0  1  2  3  4  5]\n",
      "new_a: [[-5]\n",
      " [-4]\n",
      " [-3]\n",
      " [-2]\n",
      " [-1]\n",
      " [ 0]\n",
      " [ 1]\n",
      " [ 2]\n",
      " [ 3]\n",
      " [ 4]\n",
      " [ 5]]\n",
      "new_a.shape: (11, 1)\n",
      "type of np.axis: <class 'NoneType'>\n"
     ]
    }
   ],
   "source": [
    "# 注意: np 里的切片操作返回的是原数组的视图(view)而不是副本,对切片的操作会\n",
    "# 引起原数组的改变\n",
    "\n",
    "import numpy as np\n",
    "\n",
    "# 在 NumPy 中， numpy.newaxis 是一个特殊的索引，用于增加数组的维度\n",
    "a = np.arange(-5, 5+1)\n",
    "print(\"a:\", a)\n",
    "new_a = a[: , np.newaxis]\n",
    "print(\"new_a:\", new_a)\n",
    "print(\"new_a.shape:\", new_a.shape)\n",
    "\n",
    "print(\"type of np.axis:\", type(np.newaxis))"
   ]
  },
  {
   "cell_type": "code",
   "execution_count": 8,
   "metadata": {},
   "outputs": [
    {
     "data": {
      "text/plain": [
       "array([[-5],\n",
       "       [-4],\n",
       "       [-3],\n",
       "       [-2],\n",
       "       [-1],\n",
       "       [ 0],\n",
       "       [ 1],\n",
       "       [ 2],\n",
       "       [ 3],\n",
       "       [ 4],\n",
       "       [ 5]])"
      ]
     },
     "execution_count": 8,
     "metadata": {},
     "output_type": "execute_result"
    }
   ],
   "source": [
    "a.reshape(-1,1) # 在reshape()方法中，参数-1表示自动计算该维度的大小"
   ]
  },
  {
   "cell_type": "code",
   "execution_count": 12,
   "metadata": {},
   "outputs": [
    {
     "name": "stdout",
     "output_type": "stream",
     "text": [
      "a[:, None]: [[-5]\n",
      " [-4]\n",
      " [-3]\n",
      " [-2]\n",
      " [-1]\n",
      " [ 0]\n",
      " [ 1]\n",
      " [ 2]\n",
      " [ 3]\n",
      " [ 4]\n",
      " [ 5]]\n",
      "result of np.newaxis is None: True\n"
     ]
    }
   ],
   "source": [
    "a[:, None]\n",
    "print(\"a[:, None]:\", a[:, None])  # 因为 np.newaxis 就是 None，所以 a[:, None] 与 a[:, np.newaxis] 等价\n",
    "\n",
    "print(\"result of np.newaxis is None:\", np.newaxis is None)"
   ]
  },
  {
   "cell_type": "code",
   "execution_count": 11,
   "metadata": {},
   "outputs": [
    {
     "name": "stdout",
     "output_type": "stream",
     "text": [
      "new_a: [[-5 -4 -3 -2 -1  0  1  2  3  4  5]]\n",
      "new_a.shape: (1, 11)\n"
     ]
    }
   ],
   "source": [
    "new_a = a[np.newaxis, : ]\n",
    "print(\"new_a:\", new_a)\n",
    "print(\"new_a.shape:\", new_a.shape)"
   ]
  },
  {
   "cell_type": "code",
   "execution_count": 19,
   "metadata": {},
   "outputs": [
    {
     "name": "stdout",
     "output_type": "stream",
     "text": [
      "False\n",
      "4498812480\n",
      "4498711232\n",
      "True\n"
     ]
    }
   ],
   "source": [
    "# test is\n",
    "num1 = (1,2,3)\n",
    "num2 = (1,2,3)\n",
    "\n",
    "print(num1 is num2)\n",
    "print(id(num1))\n",
    "print(id(num2))\n",
    "\n",
    "a = 10\n",
    "b = 10\n",
    "\n",
    "print(a is b)  # 输出 True"
   ]
  },
  {
   "cell_type": "code",
   "execution_count": 24,
   "metadata": {},
   "outputs": [
    {
     "name": "stdout",
     "output_type": "stream",
     "text": [
      "x.shape: (1, 3, 1)\n",
      "x.squeeze().shape is  (3,)\n",
      "x.squeeze(axis=0).shape is  (3, 1)\n",
      "x.squeeze(axis=2).shape is  (1, 3)\n"
     ]
    }
   ],
   "source": [
    "# numpy.squezee()函数从给定数组的形状中删除一维的条目\n",
    "# test squeeze\n",
    "x = np.array([[[0], [1], [2]]])\n",
    "print(\"x.shape:\", x.shape)\n",
    "print(\"x.squeeze().shape is \", x.squeeze().shape)\n",
    "print(\"x.squeeze(axis=0).shape is \", x.squeeze(axis=0).shape) # 指定某一维度进行压缩\n",
    "print(\"x.squeeze(axis=2).shape is \", x.squeeze(axis=2).shape) # 如果该维度不为1，则会报错\n",
    "# print(\"x.squeeze(axis=1).shape is \", x.squeeze(axis=1).shape) # 如果该维度不为1，则会报错\n"
   ]
  },
  {
   "cell_type": "markdown",
   "metadata": {},
   "source": [
    "## 切片操作\n",
    "\n",
    "切片的操作是[]\n",
    "[]内可以是\n",
    "* []包含的索引列表\n",
    "* start: end+1 : step ,类似 numpy 里的 arange 函数,第二个值是期望的最大值的下一位. (此外,空缺则默认为最左最右以及 1)\n",
    "    * step 为负数代表往回数"
   ]
  },
  {
   "cell_type": "code",
   "execution_count": 28,
   "metadata": {},
   "outputs": [
    {
     "name": "stdout",
     "output_type": "stream",
     "text": [
      "a: [0 1 2 3 4 5 6 7 8 9]\n",
      "a[:3]: [0 1 2]\n",
      "a[[1,2,8]]: [1 2 8]\n"
     ]
    }
   ],
   "source": [
    "a = np.arange(10)\n",
    "print(\"a:\", a)\n",
    "\n",
    "a[:3]\n",
    "print(\"a[:3]:\", a[:3])\n",
    "a[[1,2,8]]\n",
    "print(\"a[[1,2,8]]:\", a[[1,2,8]])"
   ]
  },
  {
   "cell_type": "markdown",
   "metadata": {},
   "source": [
    "## 整数索引和切片\n",
    "\n",
    "NumPy 中，可以使用整数索引来访问和修改数组中的元素。整数索引是一种非常基本的索引方法，它允许使用一个整数或整数数组来访问数组的元素。\n",
    "\n",
    "如果传递一个整数数组，则该数组的每个元素将被视为索引，从而返回一个新的数组，该数组包含原始数组中相应索引处的元素。\n",
    "\n",
    "我们可以用 `numpy.r_[0:3, -1]` 构造一个数组，也能提取相同的元素组合。`numpy.r_()` 是一个用于将切片对象转换为一个沿着第一个轴堆叠的 NumPy 数组的函数。它可以在数组创建和索引时使用。它的作用类似于 `numpy.concatenate()` 和 `numpy.vstack()`"
   ]
  },
  {
   "cell_type": "code",
   "execution_count": 29,
   "metadata": {},
   "outputs": [
    {
     "name": "stdout",
     "output_type": "stream",
     "text": [
      "[[1 2 3 4 5 6]]\n"
     ]
    }
   ],
   "source": [
    "# numpy.r_函数的语法如下：\n",
    "# np.r_['r', arrays]\n",
    "\n",
    "import numpy as np\n",
    "\n",
    "a = np.array([1, 2, 3])\n",
    "b = np.array([4, 5, 6])\n",
    "\n",
    "result = np.r_['r', a, b]  # 按行连接数组a和b\n",
    "\n",
    "print(result)"
   ]
  },
  {
   "cell_type": "code",
   "execution_count": 42,
   "metadata": {},
   "outputs": [
    {
     "name": "stdout",
     "output_type": "stream",
     "text": [
      "[[ 1  2  3]\n",
      " [ 4  5  6]\n",
      " [ 7  8  9]\n",
      " [10 11 12]]\n",
      "a.shape: (2, 3)\n",
      "b.shape: (2, 3)\n",
      "result.shape: (4, 3)\n"
     ]
    }
   ],
   "source": [
    "a = np.array([[1, 2, 3], [4, 5, 6]])\n",
    "b = np.array([[7, 8, 9], [10, 11, 12]])\n",
    "result = np.r_['r', a, b]  # 按行连接数组a和b\n",
    "print(result)\n",
    "\n",
    "print(\"a.shape:\", a.shape)\n",
    "print(\"b.shape:\", b.shape)\n",
    "print(\"result.shape:\", result.shape)"
   ]
  },
  {
   "cell_type": "code",
   "execution_count": 43,
   "metadata": {},
   "outputs": [
    {
     "name": "stdout",
     "output_type": "stream",
     "text": [
      "[[-5 -4 -3 -2 -1  0  1  2  3  4  5]\n",
      " [-5 -4 -3 -2 -1  0  1  2  3  4  5]]\n",
      "a.shape: (1, 11)\n",
      "b.shape: (1, 11)\n",
      "result.shape: (2, 11)\n"
     ]
    }
   ],
   "source": [
    "data = np.arange(-5,6)\n",
    "a = data[np.newaxis, :]\n",
    "b = data[np.newaxis ,:]\n",
    "result = np.r_['c', a, b]  # 按列连接数组a和b\n",
    "print(result)\n",
    "\n",
    "print(\"a.shape:\", a.shape) \n",
    "print(\"b.shape:\", b.shape)\n",
    "print(\"result.shape:\", result.shape)"
   ]
  },
  {
   "cell_type": "markdown",
   "metadata": {},
   "source": [
    "## 布尔索引\n",
    "\n",
    "这种索引的数组形状必须和 np.array 一样"
   ]
  },
  {
   "cell_type": "code",
   "execution_count": 46,
   "metadata": {},
   "outputs": [
    {
     "name": "stdout",
     "output_type": "stream",
     "text": [
      "data_bool_array: [False False False False False False  True  True  True  True  True]\n",
      "type of data_bool_array: <class 'numpy.ndarray'>\n",
      "data_bool_array.dtype: bool\n",
      "large_zero: [1 2 3 4 5]\n"
     ]
    }
   ],
   "source": [
    "data_bool_array = data > 0  # np.array 的比较操作会返回一个 bool 数组\n",
    "print(\"data_bool_array:\", data_bool_array)\n",
    "print(\"type of data_bool_array:\", type(data_bool_array))\n",
    "print(\"data_bool_array.dtype:\", data_bool_array.dtype)\n",
    "\n",
    "large_zero = data[data_bool_array]\n",
    "print(\"large_zero:\", large_zero) # 只会输出在 bool 数组里对应值为 True 的元素"
   ]
  },
  {
   "cell_type": "markdown",
   "metadata": {},
   "source": [
    "## 视图 vs 副本\n",
    "\n",
    "视图是原始数组的一个新视图，而副本是原始数组的一个新副本。它们的区别在于它们如何处理原始数据的内存和共享。\n",
    "\n",
    "副本则是原始数组的一份完整的拷贝，修改副本不会影响原始数组。当对数组进行切片或使用 `numpy.copy()` 方法时，将生成一个副本。副本的创建可以使用`numpy.copy()` 方法或者`numpy.array()`函数的参数 copy = True 来实现。"
   ]
  },
  {
   "cell_type": "code",
   "execution_count": 47,
   "metadata": {},
   "outputs": [
    {
     "name": "stdout",
     "output_type": "stream",
     "text": [
      "[   1 1000    3    4    5]\n",
      "[   1 1000    3    4    5]\n",
      "[888   4]\n"
     ]
    }
   ],
   "source": [
    "# 创建一个一维数组\n",
    "a = np.array([1, 2, 3, 4, 5])\n",
    "\n",
    "# 创建一个切片视图\n",
    "s = a[1:3]\n",
    "\n",
    "# 修改视图中的数据\n",
    "s[0] = 1000\n",
    "\n",
    "# 查看原始数组\n",
    "print(a) # 输出：[1 1000 3 4 5]\n",
    "\n",
    "# 创建一个整数数组索引副本\n",
    "c = a[[1, 3]].copy()\n",
    "\n",
    "# 修改副本中的数据\n",
    "c[0] = 888\n",
    "\n",
    "# 查看原始数组\n",
    "print(a) # 输出：[1 1000 3 4 5]\n",
    "print(c)"
   ]
  },
  {
   "cell_type": "code",
   "execution_count": 53,
   "metadata": {},
   "outputs": [
    {
     "name": "stdout",
     "output_type": "stream",
     "text": [
      "a.shape: (3, 3)\n",
      "b.shape: (3, 3, 1)\n",
      "a: [[1 2 3]\n",
      " [4 5 6]\n",
      " [7 8 9]]\n",
      "b: [[[1]\n",
      "  [2]\n",
      "  [3]]\n",
      "\n",
      " [[4]\n",
      "  [5]\n",
      "  [6]]\n",
      "\n",
      " [[7]\n",
      "  [8]\n",
      "  [9]]]\n",
      "[[1000    2    3]\n",
      " [   4    5    6]\n",
      " [   7    8    9]]\n"
     ]
    }
   ],
   "source": [
    "import numpy as np\n",
    "import matplotlib.pyplot as plt\n",
    "from mpl_toolkits.mplot3d import Axes3D\n",
    "\n",
    "# 创建一个3x3的数组\n",
    "a = np.array([[1, 2, 3], [4, 5, 6], [7, 8, 9]])\n",
    "\n",
    "# 使用a[:, np.newaxis]创建一个新的视图\n",
    "b = a[:, :,  np.newaxis]  # 此时, b 是一个三维数组,np.newaxis 会增加一个新的维度,且与其位置对应.如果 np.newaxis 在第二个参数\n",
    "                          # 位置,则会在第二个维度增加一个新的维度,即 b = a[:, np.newaxis, :],对应shape为(3, 1, 3)\n",
    "\n",
    "print(\"a.shape:\", a.shape)\n",
    "print(\"b.shape:\", b.shape)\n",
    "\n",
    "print(\"a:\", a)\n",
    "print(\"b:\", b)\n",
    "\n",
    "# 修改b中的值\n",
    "b[0, 0, 0] = 1000\n",
    "\n",
    "# 打印原始数组a\n",
    "print(a)\n"
   ]
  },
  {
   "cell_type": "code",
   "execution_count": 56,
   "metadata": {},
   "outputs": [
    {
     "data": {
      "image/png": "[encoded data removed]",
      "text/plain": [
       "<Figure size 100x200 with 1 Axes>"
      ]
     },
     "metadata": {},
     "output_type": "display_data"
    },
    {
     "data": {
      "image/png": "[encoded data removed]",
      "text/plain": [
       "<Figure size 100x200 with 1 Axes>"
      ]
     },
     "metadata": {},
     "output_type": "display_data"
    },
    {
     "data": {
      "image/png": "[encoded data removed]",
      "text/plain": [
       "<Figure size 100x200 with 1 Axes>"
      ]
     },
     "metadata": {},
     "output_type": "display_data"
    }
   ],
   "source": [
    "import math\n",
    "import seaborn as sns\n",
    "def visualize_2D(array, title, vmax, vmin):\n",
    "    \n",
    "    fig_width  = math.ceil(array.shape[1] * 0.5)\n",
    "    fig_length = math.ceil(array.shape[0] * 0.5)\n",
    "    \n",
    "    fig, ax = plt.subplots(figsize=(fig_width, fig_length))\n",
    "    # 注意，seaborn.heatmap() 目前只能接受2D数组\n",
    "    # 本书中，一维数组可视化时用圆圈\n",
    "    # 可视化时，只有二维、三维数组用方块\n",
    "    \n",
    "    sns.heatmap(array, \n",
    "                vmax = vmax,\n",
    "                vmin = vmin,\n",
    "                annot = True,      # 增加注释\n",
    "                fmt = \".0f\",       # 注释数值的格式\n",
    "                square = True,     # 热图方格为正方形\n",
    "                cmap = 'RdYlBu_r', # 指定色谱\n",
    "                linewidths = .5,   # 方格线宽\n",
    "                cbar = False,      # 不显示色谱条\n",
    "                yticklabels=False, # 不显示纵轴标签\n",
    "                xticklabels=False, # 不显示横轴标签\n",
    "                ax = ax)           # 指定绘制热图的轴\n",
    "    \n",
    "    fig.savefig('Figures/' + title + '.svg', format='svg')\n",
    "\n",
    "visualize_2D(b[0], '三维数组，第1页', 1000, 1)\n",
    "visualize_2D(b[1], '三维数组，第2页', 1000, 1)\n",
    "visualize_2D(b[2], '三维数组，第3页', 1000, 1)"
   ]
  },
  {
   "cell_type": "markdown",
   "metadata": {},
   "source": [
    "## 对二维数组取值"
   ]
  },
  {
   "cell_type": "code",
   "execution_count": 57,
   "metadata": {},
   "outputs": [
    {
     "name": "stdout",
     "output_type": "stream",
     "text": [
      "a[1][2]: 0\n",
      "a[[1],[2]]: [0]\n"
     ]
    }
   ],
   "source": [
    "# 根据索引操作的规则，使用单个整数索引时，返回的是一个标量值。但是，当使用索引列表时，返回的是一个数组，其中包含索引列表中指定位置的元素。\n",
    "# 因此对一个二维数组使用 a[[0, 1]] 会返回一个二维数组，其中包含第0行和第1行的元素。而使用 a[[1],[2]] 会返回一个一维数组，其中包含第1行第2列的元素。\n",
    "\n",
    "a = np.arange(-7, 7+1).reshape(3, 5)\n",
    "\n",
    "print(\"a[1][2]:\", a[1][2])\n",
    "print(\"a[[1],[2]]:\", a[[1],[2]])\n"
   ]
  },
  {
   "cell_type": "code",
   "execution_count": 61,
   "metadata": {},
   "outputs": [
    {
     "name": "stdout",
     "output_type": "stream",
     "text": [
      "a[0] [-7 -6 -5 -4 -3]\n",
      "a[[0], :] [[-7 -6 -5 -4 -3]]\n",
      "a[[0]] [[-7 -6 -5 -4 -3]]\n",
      "a[[0, 2], :]\n",
      " [[-7 -6 -5 -4 -3]\n",
      " [-2 -1  0  1  2]]\n"
     ]
    }
   ],
   "source": [
    "# 要取出二维NumPy 数组中特定行的元素，也是使用索引操作符 [] 来访问。你可以将需要访问的行\n",
    "# 的索引作为第一个参数传递给这个操作符，用冒号 : 表示需要访问的列范围。图 10 所示，取出第0 行，\n",
    "# 只需a[0]，结果为一维数组。而a[[0], :] 取出第0 行，结果为二维数组。\n",
    "print(\"a[0]\", a[0])\n",
    "print(\"a[[0], :]\", a[[0], :])\n",
    "print(\"a[[0]]\", a[[0]])\n",
    "print(\"a[[0, 2], :]\\n\", a[[0, 1], :])"
   ]
  },
  {
   "cell_type": "code",
   "execution_count": 73,
   "metadata": {},
   "outputs": [
    {
     "name": "stdout",
     "output_type": "stream",
     "text": [
      "[-0.76392743  0.67212167 -0.43697005 -0.23982762 -0.18485829  0.89719945\n",
      "  0.20350718 -0.6684035  -0.35635341 -0.18230133]\n",
      "[-0.18485829 -0.23982762 -0.43697005  0.67212167 -0.76392743]\n",
      "\n",
      "\n",
      "Q2: \n",
      "[[ 0.32208963 -0.32052896 -0.97198759 -0.51323845]\n",
      " [-0.04346986 -0.05655851  0.66723115 -0.3187917 ]\n",
      " [ 0.02455542  0.345849    0.89445095 -0.78494291]]\n",
      "[[ 0.32208963 -0.32052896 -0.97198759 -0.51323845]\n",
      " [ 0.02455542  0.345849    0.89445095 -0.78494291]]\n",
      "[[-0.32052896 -0.51323845]\n",
      " [-0.05655851 -0.3187917 ]\n",
      " [ 0.345849   -0.78494291]]\n",
      "\n",
      "\n",
      "Q3: \n",
      "[[[-0.07371973  0.53002243 -0.76465346 -0.43572773 -0.58358113\n",
      "   -0.52562257]\n",
      "  [ 0.05716856 -0.74623941  0.93538989  0.69551737  0.29600094\n",
      "    0.57554862]\n",
      "  [ 0.48738194  0.41852006 -0.59117239 -0.63515225  0.33124132\n",
      "   -0.480853  ]\n",
      "  [ 0.68529082  0.44476341  0.87295826 -0.32207906  0.31188016\n",
      "    0.70984085]\n",
      "  [ 0.61409644 -0.11741127 -0.67091887  0.41648885  0.10834978\n",
      "   -0.44268851]]\n",
      "\n",
      " [[-0.74128752 -0.6412795   0.70943635  0.63147137 -0.53418869\n",
      "   -0.93645638]\n",
      "  [ 0.30659367  0.06755245  0.39364918  0.79662527 -0.33863181\n",
      "   -0.70258681]\n",
      "  [-0.43285308 -0.13847801  0.86157998 -0.97557306  0.69804431\n",
      "    0.37775808]\n",
      "  [-0.22102335 -0.72077003 -0.9582287  -0.22323314  0.4811509\n",
      "    0.01741034]\n",
      "  [-0.58581926 -0.72409784 -0.11929183 -0.14294857  0.46811264\n",
      "   -0.46581011]]\n",
      "\n",
      " [[ 0.84112554 -0.92732685 -0.9097682  -0.95668972  0.92669865\n",
      "   -0.6407235 ]\n",
      "  [-0.42603435  0.63410583  0.20455465 -0.19559184 -0.51888773\n",
      "    0.61058613]\n",
      "  [-0.25431572  0.54341126  0.12654018 -0.48715062  0.17600748\n",
      "    0.1540318 ]\n",
      "  [ 0.94970254  0.79063059  0.45939378 -0.66831485 -0.58260922\n",
      "    0.155673  ]\n",
      "  [-0.76319151 -0.1875683  -0.3157101   0.68693494 -0.60033105\n",
      "   -0.12659131]]\n",
      "\n",
      " [[-0.18034302 -0.36097544  0.98115124 -0.89663233 -0.0869607\n",
      "   -0.84861821]\n",
      "  [-0.75279778 -0.48502277  0.71872227 -0.33043118 -0.78422339\n",
      "    0.69360856]\n",
      "  [ 0.58290203  0.63405964 -0.74260599  0.55950264  0.51127166\n",
      "   -0.66732999]\n",
      "  [ 0.72359253 -0.16006135 -0.65685384  0.18649793 -0.63422972\n",
      "    0.4054226 ]\n",
      "  [ 0.66782095 -0.11962753  0.42293089 -0.06631089  0.75205596\n",
      "    0.81156915]]]\n",
      "\n",
      "[[[-0.07371973  0.53002243]\n",
      "  [ 0.05716856 -0.74623941]\n",
      "  [ 0.48738194  0.41852006]\n",
      "  [ 0.68529082  0.44476341]\n",
      "  [ 0.61409644 -0.11741127]]\n",
      "\n",
      " [[-0.74128752 -0.6412795 ]\n",
      "  [ 0.30659367  0.06755245]\n",
      "  [-0.43285308 -0.13847801]\n",
      "  [-0.22102335 -0.72077003]\n",
      "  [-0.58581926 -0.72409784]]\n",
      "\n",
      " [[ 0.84112554 -0.92732685]\n",
      "  [-0.42603435  0.63410583]\n",
      "  [-0.25431572  0.54341126]\n",
      "  [ 0.94970254  0.79063059]\n",
      "  [-0.76319151 -0.1875683 ]]\n",
      "\n",
      " [[-0.18034302 -0.36097544]\n",
      "  [-0.75279778 -0.48502277]\n",
      "  [ 0.58290203  0.63405964]\n",
      "  [ 0.72359253 -0.16006135]\n",
      "  [ 0.66782095 -0.11962753]]]\n"
     ]
    }
   ],
   "source": [
    "# 课后习题\n",
    "\n",
    "# Q1. 创建一个一维数组，形状为 (10, )，用满足在 [−1, 1] 均匀分布随机数填充。切片操作提取前5 个元\n",
    "# 素，并将结果倒序输出。\n",
    "q1_data = np.random.uniform(-1,1,size=(10,))\n",
    "print(q1_data)\n",
    "output = q1_data[:5][::-1]\n",
    "print(output)\n",
    "\n",
    "# Q2. 创建一个二维数组，形状为 (3, 4)，用满足在 [−1, 1] 均匀分布随机数填充。使用切片操作选取其中\n",
    "# 的第一行和第三行。同时，使用切片操作取出第二、四列。\n",
    "print(\"\\n\\nQ2: \")\n",
    "q2_data = np.random.uniform(-1,1,size=(3,4))\n",
    "print(q2_data)\n",
    "output_1 = q2_data[[0,2],:]\n",
    "output_2 = q2_data[:,[1,3]]\n",
    "print(output_1)\n",
    "print(output_2)\n",
    "\n",
    "# Q3. 创建一个三维数组，形状为 (4, 5, 6)，用满足在 [−1, 1] 均匀分布随机数填充。使用切片操作选取其\n",
    "# 中的axis = 0、1 维度上的所有元素，以及axis = 2 维度上的前两个元素。\n",
    "print(\"\\n\\nQ3: \")\n",
    "q3_data = np.random.uniform(-1,1,[4,5,6])\n",
    "print(q3_data)\n",
    "output_1 = q3_data[:,:, :2 ]\n",
    "print()\n",
    "print(output_1)"
   ]
  }
 ],
 "metadata": {
  "kernelspec": {
   "display_name": "myEnv",
   "language": "python",
   "name": "python3"
  },
  "language_info": {
   "codemirror_mode": {
    "name": "ipython",
    "version": 3
   },
   "file_extension": ".py",
   "mimetype": "text/x-python",
   "name": "python",
   "nbconvert_exporter": "python",
   "pygments_lexer": "ipython3",
   "version": "3.10.13"
  },
  "orig_nbformat": 4
 },
 "nbformat": 4,
 "nbformat_minor": 2
}
