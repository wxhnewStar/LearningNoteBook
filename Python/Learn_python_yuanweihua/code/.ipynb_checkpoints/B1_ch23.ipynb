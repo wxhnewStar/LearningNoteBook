{
 "cells": [
  {
   "cell_type": "markdown",
   "metadata": {},
   "source": [
    "# pandas 常见运算\n",
    "\n",
    "包括函数:\n",
    "\n",
    "* pandas.DataFrame.apply() 将一个自定义函数或者lambda 函数应用到数据帧的行或列上，实现数据的转换和处理\n",
    "* pandas.DataFrame.corr() 计算DataFrame 中列之间Pearson 相关系数 (样本)\n",
    "* pandas.DataFrame.count() 计算DataFrame 每列的非缺失值的数量\n",
    "* pandas.DataFrame.cov() 计算DataFrame 中列之间的协方差矩阵 (样本)\n",
    "* pandas.DataFrame.describe() 计算DataFrame 中数值列的基本描述统计信息，如平均值、标准差、分位数等\n",
    "* pandas.DataFrame.groupby() 在分组后的数据上执行聚合、转换和其他操作，从而对数据进行更深入的分析和处理\n",
    "* pandas.DataFrame.kurt() 计算DataFrame 中列的峰度 (四阶矩)\n",
    "* pandas.DataFrame.kurtosis() 计算DataFrame 中列的峰度 (四阶矩)\n",
    "* pandas.DataFrame.max() 计算DataFrame 中每列的最大值\n",
    "* pandas.DataFrame.mean() 计算DataFrame 中每列的平均值\n",
    "* pandas.DataFrame.median() 计算DataFrame 中每列的中位数\n",
    "* pandas.DataFrame.min() 计算DataFrame 中每列的最小值\n",
    "* pandas.DataFrame.mode() 计算DataFrame 中每列的众数\n",
    "* pandas.DataFrame.nunique() 计算DataFrame 中每列中的唯一值数量\n",
    "* pandas.DataFrame.quantile() 计算DataFrame 中每列的指定分位数值，如四分位数、特定百分位等\n",
    "* pandas.DataFrame.rank() 计算DataFrame 中每列元素的排序排名\n",
    "* pandas.DataFrame.skew() 计算DataFrame 中列的偏度 (三阶矩)\n",
    "* pandas.DataFrame.std() 计算DataFrame 中列的标准差 (样本)\n",
    "* pandas.DataFrame.sum() 计算DataFrame 中每列元素的总和\n",
    "* pandas.DataFrame.var() 计算DataFrame 中列的方差 (样本)"
   ]
  },
  {
   "cell_type": "markdown",
   "metadata": {},
   "source": [
    "## 四则运算\n",
    "\n"
   ]
  },
  {
   "cell_type": "code",
   "execution_count": 8,
   "metadata": {},
   "outputs": [
    {
     "name": "stdout",
     "output_type": "stream",
     "text": [
      "    X1   X2 species  X1 - E(X1)\n",
      "0  5.1  3.5  setosa   -0.743333\n",
      "1  4.9  3.0  setosa   -0.943333\n",
      "2  4.7  3.2  setosa   -1.143333\n",
      "3  4.6  3.1  setosa   -1.243333\n",
      "4  5.0  3.6  setosa   -0.843333\n",
      "<class 'pandas.core.series.Series'>\n"
     ]
    },
    {
     "name": "stderr",
     "output_type": "stream",
     "text": [
      "/var/folders/mr/d7lt6chd66jgt7d560rj0sp00000gn/T/ipykernel_33503/1044888.py:10: SettingWithCopyWarning: \n",
      "A value is trying to be set on a copy of a slice from a DataFrame.\n",
      "Try using .loc[row_indexer,col_indexer] = value instead\n",
      "\n",
      "See the caveats in the documentation: https://pandas.pydata.org/pandas-docs/stable/user_guide/indexing.html#returning-a-view-versus-a-copy\n",
      "  X_df_['X1 - E(X1)'] = X_df_['X1'].sub(X_df_['X1'].mean()) # 添加一个新的列, 用于存储X1 - E(X1). 其中 mean() 返回的是一个值\n"
     ]
    }
   ],
   "source": [
    "import seaborn as sns\n",
    "import pandas as pd\n",
    "\n",
    "iris_df = sns.load_dataset(\"iris\")\n",
    "# 从Seaborn中导入鸢尾花数据帧\n",
    "X_df = iris_df.copy()\n",
    "X_df.rename(columns = {'sepal_length':'X1', 'sepal_width':'X2'}, inplace = True)\n",
    "X_df_ = X_df[['X1','X2', 'species']]\n",
    "# 数据转换\n",
    "X_df_['X1 - E(X1)'] = X_df_['X1'].sub(X_df_['X1'].mean()) # 添加一个新的列, 用于存储X1 - E(X1). 其中 mean() 返回的是一个值\n",
    "print(X_df_.head())\n",
    "\n",
    "X_df_['X1 - X2'] = X_df_['X1'] - X_df_['X2'] # 运算的两个都是列, 返回的是一个列\n",
    "print(type(X_df_['X1 - X2'])) # 类型是 Series"
   ]
  },
  {
   "cell_type": "markdown",
   "metadata": {},
   "source": [
    "## 统计运算\n",
    "\n",
    "统计运算,也称为**聚合操作**\n",
    "\n",
    "聚合操作 (aggregation) 通常用于从大量数据中提取出有意义的摘要信息，以便更好地理解数据的特征和行为\n",
    "\n",
    "常见的聚合操作包括计算平均值、求和、计数、标准差、方差、相关性等"
   ]
  }
 ],
 "metadata": {
  "kernelspec": {
   "display_name": "myEnv",
   "language": "python",
   "name": "python3"
  },
  "language_info": {
   "codemirror_mode": {
    "name": "ipython",
    "version": 3
   },
   "file_extension": ".py",
   "mimetype": "text/x-python",
   "name": "python",
   "nbconvert_exporter": "python",
   "pygments_lexer": "ipython3",
   "version": "3.10.13"
  }
 },
 "nbformat": 4,
 "nbformat_minor": 2
}
