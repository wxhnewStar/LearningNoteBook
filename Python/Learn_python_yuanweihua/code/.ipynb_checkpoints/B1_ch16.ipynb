{
 "cells": [
  {
   "cell_type": "markdown",
   "metadata": {},
   "source": [
    "# numpy 数组规整\n",
    "\n",
    "亦即重塑数组的维度 & 形状\n",
    "◄ numpy.append() 用于将值添加到数组的末尾，生成一个新的数组，并不会修改原始数组\n",
    "◄ numpy.arange() 创建一个具有指定范围、间隔和数据类型的等间隔数组\n",
    "◄ numpy.block() 用于按照指定的块结构组合多个数组，生成一个新的数组\n",
    "◄ numpy.column_stack() 按列堆叠多个数组，生成一个新的二维数组\n",
    "◄ numpy.concatenate() 沿指定轴连接多个数组，生成一个新的数组\n",
    "◄ numpy.delete() 用于删除数组中指定位置的元素，生成一个新的数组，并不会修改原始数组\n",
    "◄ numpy.flatten() 用于将多维数组转换为一维数组。与 numpy.ravel() 不同的是，numpy.flatten() 返回数组的副本，而不是原始数组的视图\n",
    "◄ numpy.flip() 用于沿指定轴翻转数组的元素顺序\n",
    "◄ numpy.fliplr() 沿着水平方向 (左右方向) 翻转数组的元素顺序\n",
    "◄ numpy.flipud() 沿着垂直方向 (上下方向) 翻转数组的元素顺序\n",
    "◄ numpy.hsplit() 用于沿水平方向分割数组为多个子数组\n",
    "◄ numpy.hstack() 按水平方向堆叠多个数组，生成一个新的数组\n",
    "◄ numpy.insert() 用于在数组的指定位置插入值，生成一个新的数组，并不会修改原始数组\n",
    "◄ numpy.ravel() 用于将多维数组转换为一维数组，按照 C 风格的顺序展平数组元素\n",
    "◄ numpy.repeat() 将数组中的元素重复指定次数，生成一个新的数组\n",
    "◄ numpy.reshape() 用于改变数组的形状，重新排列数组元素，但不改变原始数据本身\n",
    "◄ numpy.resize() 用于调整数组的形状，并可以在必要时重复数组的元素来填充新的形状\n",
    "◄ numpy.rot90() 默认将数组按指定次数逆时针旋转 90 度\n",
    "◄ numpy.row_stack() 按行堆叠多个数组，生成一个新的数组\n",
    "◄ numpy.shares_memory() 用于检查两个数组是否共享相同的内存位置\n",
    "◄ numpy.split() 用于将数组沿指定轴进行分割成多个子数组\n",
    "◄ numpy.squeeze() 用于从数组的形状中去除维度为1 的维度，使得数组更紧凑\n",
    "◄ numpy.stack() 用于沿新的轴将多个数组堆叠在一起，生成一个新的数组\n",
    "◄ numpy.swapaxes() 用于交换数组的两个指定轴的位置\n",
    "◄ numpy.tile() 用于将数组沿指定方向重复指定次数，生成一个新的数组\n",
    "◄ numpy.transpose() 完成矩阵转置，即将数组的行和列进行互换\n",
    "◄ numpy.vsplit() 用于沿垂直方向分割数组为多个子数组\n",
    "◄ numpy.vstack() 按垂直方向堆叠多个数组，生成一个新的数组"
   ]
  },
  {
   "cell_type": "markdown",
   "metadata": {},
   "source": [
    "## reshape 函数\n",
    "\n",
    "numpy.reshape(a, newshape, order='C')\n",
    "\n",
    "这个函数的重要输入参数：\n",
    "* a 参数是要被重塑的数组，可以是一个数组对象，也可以是一个 Python 列表、元组等支持迭代的对象。\n",
    "* newshape 参数是新的形状，可以是一个整数元组或列表，也可以是一个整数序列。\n",
    "* order 参数表示重塑数组的元素在内存中存储的顺序，可以是 'C' (按行顺序存储) 或 'F' (按列顺序存储)，默认值为'C'。 (即新形状的数据是怎么在内存中存储的)\n",
    "\n",
    "**如果改变后的形状与原数组的数量不一致,将会抛出 ValueError Exception**\n",
    "**注意，使用 -1 作为形状参数时，numpy.reshape() 会根据数组中的数据数量和其它指定的维数来自动计算该维度的大小。**"
   ]
  },
  {
   "cell_type": "code",
   "execution_count": 4,
   "metadata": {},
   "outputs": [
    {
     "name": "stdout",
     "output_type": "stream",
     "text": [
      "num_1 [[-7 -6 -5 -4 -3]\n",
      " [-2 -1  0  1  2]\n",
      " [ 3  4  5  6  7]]\n",
      "num_2 [[-7 -4 -1  2  5]\n",
      " [-6 -3  0  3  6]\n",
      " [-5 -2  1  4  7]]\n",
      "num_3 [[-7 -6 -5]\n",
      " [-4 -3 -2]\n",
      " [-1  0  1]\n",
      " [ 2  3  4]\n",
      " [ 5  6  7]]\n",
      "num_4 [[-7 -6 -5 -4 -3 -2 -1  0  1  2  3  4  5  6  7]] (1, 15)\n"
     ]
    }
   ],
   "source": [
    "import numpy as np\n",
    "num = np.arange(-7,8)\n",
    "num_1 = num.reshape(3,5,order='C')\n",
    "num_2 = num.reshape(3,5,order='F')\n",
    "print(\"num_1\", num_1)\n",
    "print(\"num_2\", num_2)\n",
    "print('num_3', num.reshape(5,-1))  # -1:自動計算,由于行数已知为 5,所以计算列数为 3; 因此,如果行数设置为 1,则列数为 15,变成了行向量\n",
    "print('num_4', num.reshape(1,-1), num.reshape(1,-1).shape)  # -1:自動計算,由于行数已知为 1,所以计算列数为 15,变成了行向量"
   ]
  },
  {
   "cell_type": "markdown",
   "metadata": {},
   "source": [
    "## 视图 vs 副本\n",
    "\n",
    "牢记判断两个 array 是否指向同一个内存的办法:`numpy.shares_memory(a1,a2)`"
   ]
  },
  {
   "cell_type": "markdown",
   "metadata": {},
   "source": [
    "## 数组转置操作\n",
    "\n",
    "两种方法:\n",
    "1. numpy.transpose()\n",
    "2. .T 属性\n",
    "\n",
    "二者都是返回原始数组的转置,并且是视图,而非副本\n",
    "\n",
    "**一维数组转置不会产生变化**"
   ]
  },
  {
   "cell_type": "code",
   "execution_count": 6,
   "metadata": {},
   "outputs": [
    {
     "name": "stdout",
     "output_type": "stream",
     "text": [
      "a [1 2 3 4 5 6 7 8 9]\n",
      "a.T [1 2 3 4 5 6 7 8 9]\n"
     ]
    }
   ],
   "source": [
    "a = np.arange(1, 10)\n",
    "print('a', a)\n",
    "print('a.T', a.T)"
   ]
  },
  {
   "cell_type": "markdown",
   "metadata": {},
   "source": [
    "## 扁平化\n",
    "\n",
    "多种方法:\n",
    "1. array.ravel() # 返回的是副本\n",
    "2. array.reshape(-1)\n",
    "3. array.flatten()\n",
    "\n",
    "后两个都是视图"
   ]
  },
  {
   "cell_type": "markdown",
   "metadata": {},
   "source": [
    "## 旋转&反转\n",
    "\n",
    "1. numpy.rot90()  # 将一个数组逆时针旋转 90 度\n",
    "2. numpy.flip()   # 反转数组中的元素,将数组沿着一个或多个轴翻转 \n",
    "\n",
    "> numpy.flip(A,axis=None) 中，A 是要进行翻转的数组，axis 指定要翻转的轴。\n",
    "> 如图 12 所示，如果不指定 axis，则默认将整个数组沿着所有的轴进行翻转。"
   ]
  },
  {
   "cell_type": "markdown",
   "metadata": {},
   "source": [
    "## 堆叠\n",
    "\n",
    "1. numpy.stack() # 沿着指定轴将多个数组堆叠在一起,返回一个新数组,默认轴为 axis = 0\n",
    "2. numpy.row_stack() # 将多个数组沿着行方向进行堆叠, 生成一个新的数组.\n",
    "3. numpy.vstack()  # 将多个数组沿着垂直方向(行方向)进行堆叠, 生成一个新的数组\n",
    "\n",
    "1. numpy.concatenate()  # 拼接"
   ]
  },
  {
   "cell_type": "code",
   "execution_count": 8,
   "metadata": {},
   "outputs": [
    {
     "name": "stdout",
     "output_type": "stream",
     "text": [
      "numpy.stack((a1,a2))\n",
      " [[ 1  2  3  4  5]\n",
      " [ 6  7  8  9 10]]\n",
      "numpy.row_stack((a1,a2))\n",
      " [[ 1  2  3  4  5]\n",
      " [ 6  7  8  9 10]]\n",
      "numpy.column_stack((a1,a2))\n",
      " [[ 1  6]\n",
      " [ 2  7]\n",
      " [ 3  8]\n",
      " [ 4  9]\n",
      " [ 5 10]]\n",
      "numpy.hstack((a1,a2))\n",
      " [ 1  2  3  4  5  6  7  8  9 10]\n",
      "numpy.vstack((a1,a2))\n",
      " [[ 1  2  3  4  5]\n",
      " [ 6  7  8  9 10]]\n"
     ]
    }
   ],
   "source": [
    "a1 = np.arange(1,6)\n",
    "a2 = np.arange(6,11)\n",
    "print(\"numpy.stack((a1,a2))\\n\", np.stack((a1,a2)))\n",
    "print(\"numpy.row_stack((a1,a2))\\n\", np.row_stack((a1,a2)))\n",
    "print(\"numpy.column_stack((a1,a2))\\n\", np.column_stack((a1,a2)))\n",
    "print(\"numpy.hstack((a1,a2))\\n\", np.hstack((a1,a2)))  # 注意这个和 column_stack 的区别,要获得正确的结果,a1 和 a2 必须是列向量\n",
    "print(\"numpy.vstack((a1,a2))\\n\", np.vstack((a1,a2)))"
   ]
  },
  {
   "cell_type": "code",
   "execution_count": 10,
   "metadata": {},
   "outputs": [
    {
     "name": "stdout",
     "output_type": "stream",
     "text": [
      "a\n",
      " [[1 2 3]\n",
      " [4 5 6]\n",
      " [7 8 9]]\n",
      "b\n",
      " [[11 12 13]\n",
      " [14 15 16]\n",
      " [17 18 19]]\n",
      "np.concatenate((a,b))\n",
      " [[ 1  2  3]\n",
      " [ 4  5  6]\n",
      " [ 7  8  9]\n",
      " [11 12 13]\n",
      " [14 15 16]\n",
      " [17 18 19]]\n",
      "np.concatenate((a,b), axis=0)\n",
      " [[ 1  2  3]\n",
      " [ 4  5  6]\n",
      " [ 7  8  9]\n",
      " [11 12 13]\n",
      " [14 15 16]\n",
      " [17 18 19]]\n",
      "np.concatenate((a,b), axis=1)\n",
      " [[ 1  2  3 11 12 13]\n",
      " [ 4  5  6 14 15 16]\n",
      " [ 7  8  9 17 18 19]]\n"
     ]
    }
   ],
   "source": [
    "# 拼接\n",
    "a = np.arange(1, 10).reshape(3,3)\n",
    "b = np.arange(11, 20).reshape(3,3)\n",
    "print('a\\n', a)\n",
    "print('b\\n', b)\n",
    "print('np.concatenate((a,b))\\n', np.concatenate((a,b)))\n",
    "print('np.concatenate((a,b), axis=0)\\n', np.concatenate((a,b), axis=0))\n",
    "print('np.concatenate((a,b), axis=1)\\n', np.concatenate((a,b), axis=1))"
   ]
  },
  {
   "cell_type": "markdown",
   "metadata": {},
   "source": [
    "## 重复\n",
    "\n",
    "1. numpy.repeat()\n",
    "2. numpy.tile()\n",
    "\n",
    "numpy.repeat() 和numpy.tile() 的区别在于重复的对象不同。numpy.repeat() 重复的是分别数组中的每个元素。numpy.repeat() 还可以指定具体\n",
    "的轴，以及不同元素重复的次"
   ]
  },
  {
   "cell_type": "code",
   "execution_count": 11,
   "metadata": {},
   "outputs": [
    {
     "name": "stdout",
     "output_type": "stream",
     "text": [
      "a [1 2 3 4]\n",
      "np.repeat(a, 2) [1 1 2 2 3 3 4 4]\n",
      "np.tile(a, 2) [1 2 3 4 1 2 3 4]\n"
     ]
    }
   ],
   "source": [
    "# test np.repeat() np.tile()\n",
    "a = np.arange(1, 5)\n",
    "print('a', a)\n",
    "print('np.repeat(a, 2)', np.repeat(a, 2))\n",
    "print('np.tile(a, 2)', np.tile(a, 2))\n"
   ]
  },
  {
   "cell_type": "markdown",
   "metadata": {},
   "source": [
    "## 分块矩阵\n",
    "\n",
    "### 组合\n",
    "numpy.block() 函数用于将多个数组沿不同的轴组合成一个分块矩阵。它接受一个嵌套列表作为输入，每个列表代表一个块矩阵，然后根据指定的轴将这些块矩阵组合在一起。\n",
    "\n",
    "### 切割\n",
    "沿指定轴numpy.split()  # 一维数组切成几等份,二维数组默认沿着 aixs = 0 均切.\n",
    "                      # 注意,默认均等切的话,要保证可均分\n"
   ]
  },
  {
   "cell_type": "code",
   "execution_count": 12,
   "metadata": {},
   "outputs": [
    {
     "data": {
      "text/plain": [
       "array([[ 1.,  0.,  0.,  0.,  0.],\n",
       "       [ 0.,  1.,  0.,  0.,  0.],\n",
       "       [ 0.,  0., -4., -3., -2.],\n",
       "       [ 0.,  0., -1.,  0.,  1.],\n",
       "       [ 0.,  0.,  2.,  3.,  4.]])"
      ]
     },
     "execution_count": 12,
     "metadata": {},
     "output_type": "execute_result"
    }
   ],
   "source": [
    "A = np.eye(2)\n",
    "B = np.arange(-4,4+1).reshape(3,3)\n",
    "M = np.block([[A,                np.zeros((2, 3))],\n",
    "              [np.zeros((3, 2)), B               ]])  # 里面是一个嵌套列表,只要里面的 array 的维度相同,就可以拼接\n",
    "M"
   ]
  },
  {
   "cell_type": "code",
   "execution_count": 17,
   "metadata": {},
   "outputs": [
    {
     "name": "stdout",
     "output_type": "stream",
     "text": [
      "a_1D\n",
      " [-9 -8 -7 -6 -5 -4 -3 -2 -1  0  1  2  3  4  5  6  7  8]\n",
      "a_3_splits\n",
      " [array([-9, -8, -7, -6, -5, -4]), array([-3, -2, -1,  0,  1,  2]), array([3, 4, 5, 6, 7, 8])]\n",
      "a_3_splits[0]\n",
      " [-9 -8 -7 -6 -5 -4]\n",
      "split at specified positions\n",
      "a_3_splits with [2,5,7]\n",
      " [array([-9, -8]), array([-7, -6, -5]), array([-4, -3]), array([-2, -1,  0,  1,  2,  3,  4,  5,  6,  7,  8])]\n"
     ]
    }
   ],
   "source": [
    "a_1D = np.arange(-9,9)\n",
    "print('a_1D\\n', a_1D)\n",
    "a_3_splits = np.split(a_1D, 3)\n",
    "print('a_3_splits\\n', a_3_splits)\n",
    "print('a_3_splits[0]\\n', a_3_splits[0])\n",
    "\n",
    "print(\"split at specified positions\")\n",
    "a_3_splits = np.split(a_1D, [2, 5, 7])\n",
    "print('a_3_splits with [2,5,7]\\n', a_3_splits)"
   ]
  },
  {
   "cell_type": "code",
   "execution_count": 18,
   "metadata": {},
   "outputs": [
    {
     "data": {
      "text/plain": [
       "array([[ 1,  2,  3,  4],\n",
       "       [ 9, 10, 11, 12]])"
      ]
     },
     "execution_count": 18,
     "metadata": {},
     "output_type": "execute_result"
    }
   ],
   "source": [
    "arr = np.array([[1,2,3,4], [5,6,7,8], [9,10,11,12]])\n",
    "np.delete(arr, 1, 0)"
   ]
  },
  {
   "cell_type": "markdown",
   "metadata": {},
   "source": [
    "## append insert delete\n",
    "\n",
    "当涉及到NumPy库的delete、append和insert函数时，它们都是用于在数组中进行元素的删除、添加和插入操作的函数。\n",
    "\n",
    "np.delete(arr, obj, axis=None)：\n",
    "arr：要删除元素的数组。\n",
    "obj：指定要删除的元素的索引或切片。\n",
    "axis：可选参数，用于指定沿着哪个轴删除元素。默认为None，表示在扁平化的数组上进行删除。\n",
    "np.delete()函数可以用于从数组中删除指定索引或切片的元素，并返回一个新的数组。删除操作不会更改原始数组。\n",
    "\n",
    "以下是示例用法：\n",
    "\n",
    "```python\n",
    "import numpy as np\n",
    "\n",
    "arr = np.array([1, 2, 3, 4, 5])\n",
    "\n",
    "new_arr = np.delete(arr, 2)  # 删除索引为2的元素\n",
    "\n",
    "print(\"Original Array:\", arr)\n",
    "print(\"New Array:\", new_arr)\n",
    "```\n",
    "在这个示例中，我们创建了一个包含整数的数组arr。然后，我们使用np.delete()函数删除了索引为2的元素，返回了一个新的数组new_arr。\n",
    "\n",
    "np.append(arr, values, axis=None)：\n",
    "arr：要添加元素的数组。\n",
    "values：要添加到数组的值，可以是一个数值或一个数组。\n",
    "axis：可选参数，用于指定沿着哪个轴添加元素。默认为None，表示将数组扁平化后添加元素。\n",
    "np.append()函数可以用于在数组的末尾添加一个或多个元素，并返回一个新的数组。添加操作不会更改原始数组。\n",
    "\n",
    "以下是示例用法：\n",
    "\n",
    "```python\n",
    "import numpy as np\n",
    "\n",
    "arr = np.array([1, 2, 3, 4, 5])\n",
    "\n",
    "new_arr = np.append(arr, 6)  # 在末尾添加元素6\n",
    "\n",
    "print(\"Original Array:\", arr)\n",
    "print(\"New Array:\", new_arr)\n",
    "```\n",
    "在这个示例中，我们创建了一个包含整数的数组arr。然后，我们使用np.append()函数在数组末尾添加了元素6，返回了一个新的数组new_arr。\n",
    "\n",
    "np.insert(arr, obj, values, axis=None)：\n",
    "arr：要插入元素的数组。\n",
    "obj：指定要插入元素的索引位置。\n",
    "values：要插入的值，可以是一个数值或一个数组。\n",
    "axis：可选参数，用于指定沿着哪个轴插入元素。默认为None，表示将数组扁平化后插入元素。\n",
    "np.insert()函数可以用于在数组的指定位置插入一个或多个元素，并返回一个新的数组。插入操作不会更改原始数组。\n",
    "\n",
    "以下是示例用法：\n",
    "\n",
    "```python\n",
    "import numpy as np\n",
    "arr = np.array([1, 2, 3, 4, 5])\n",
    "new_arr = np.insert(arr, 2, [6, 7])  # 在索引2处插入元素6和7\n",
    "\n",
    "print(\"Original Array:\", arr)\n",
    "print(\"New Array:\", new_arr)\n",
    "```\n",
    "在这个示例中，我们创建了一个包含整数的数组arr。然后，我们使用np.insert()函数在索引2处插入了元素6和7，返回了一个新的数组new_arr。\n",
    "\n",
    "需要注意的是，delete、append和insert函数都返回新的数组，并不会修改原始数组。如果你想在原始数组上进行修改，需要将返回的新数组赋值给原始数组。"
   ]
  }
 ],
 "metadata": {
  "kernelspec": {
   "display_name": "myEnv",
   "language": "python",
   "name": "python3"
  },
  "language_info": {
   "codemirror_mode": {
    "name": "ipython",
    "version": 3
   },
   "file_extension": ".py",
   "mimetype": "text/x-python",
   "name": "python",
   "nbconvert_exporter": "python",
   "pygments_lexer": "ipython3",
   "version": "3.10.13"
  },
  "orig_nbformat": 4
 },
 "nbformat": 4,
 "nbformat_minor": 2
}
