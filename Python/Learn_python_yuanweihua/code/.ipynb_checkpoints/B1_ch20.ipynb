{
 "cells": [
  {
   "cell_type": "markdown",
   "metadata": {},
   "source": [
    "# pandas 可视化\n",
    "\n",
    "出现过的函数:\n",
    "* pandas.DataFrame.plot() 绘制线图\n",
    "* pandas.DataFrame.plot.area() 绘制面积图\n",
    "* pandas.DataFrame.plot.bar() 绘制柱状图\n",
    "* pandas.DataFrame.plot.barh() 绘制水平柱状图\n",
    "* pandas.DataFrame.plot.box() 绘制箱型图\n",
    "* pandas.DataFrame.plot.density() 绘制KDE 线图\n",
    "* pandas.DataFrame.plot.hexbin() 绘制六边形图\n",
    "* pandas.DataFrame.plot.hist() 绘制直方图\n",
    "* pandas.DataFrame.plot.kde() 绘制KDE 线图\n",
    "* pandas.DataFrame.plot.line() 绘制线图\n",
    "* pandas.DataFrame.plot.pie() 绘制饼图\n",
    "* pandas.DataFrame.plot.scatter() 绘制散点图\n",
    "* pandas.plotting.scatter_matrix() 成对散点图矩阵"
   ]
  },
  {
   "cell_type": "markdown",
   "metadata": {},
   "source": [
    "## pandas 的可视化功能\n",
    "\n",
    "Pandas 提供了一些基本的可视化功能\n",
    "\n",
    "以下是常见的单一特征统计量化描述。\n",
    "\n",
    "* 均值 (average, mean) 是数据集中所有值的总和除以数据点的数量。\n",
    "* 众数 (mode) 是数据集中出现频率最高的值。一个数据集可以有一个或多个众数。\n",
    "* 中位 (median) 数是将数据集中的所有值按大小排序后位于中间位置的值。它不受异常值的影响，用于度量数据的中心趋势。当数据点数量为奇数时，中位数就是中间的值；当数据点数量为偶数时，中位数是中间两个值的平均值。\n",
    "* 最大值 (maximum) 是数据集中的最大数值，而最小值 (minimum) 是数据集中的最小数值，用于表示数据的范围。\n",
    "* 方差 (variance) 度量了数据点与均值之间的离散程度。较高的方差表示数据点更分散，较低的方差表示数据点更接近均值。\n",
    "* 标准差 (standard deviation) 是方差的平方根，用于衡量数据的离散程度。与方差不同，标准差的单位与数据集的单位相同，因此更容易理解。\n",
    "* 分位点 (percentile) 是将数据集划分成若干部分的值，通常以百分比形式表示。例如，第 25 百分位数是将数据集划分成四分之一的值，第 50 百分位数就是中位数。\n",
    "* 偏度 (skewness) 度量了数据分布的偏斜程度。如果数据分布偏向左侧 (负偏)，偏度为负数；如果数据分布偏向右侧 (正偏)，偏度为正数。偏度为零表示数据分布大致对称。\n",
    "* 峰度 (kurtosis) 度量了数据分布的尖锐程度。峰度值通常与正态分布的峰度值相比较。正峰度表示数据分布具有比正态分布更尖锐的峰值，负峰度表示数据分布的峰值较平缓。\n",
    "\n",
    "当涉及到多个特征时，我们还需要两个或多个特征的常见统计描述，比如:\n",
    "\n",
    "* 质心 (centroid) 是多个特征的平均值，通常用于表示多维数据的中心点。对更高维数据，对每个特征\n",
    "分别求均值的结果就是质心。\n",
    "* 协方差 (covariance) 度量了两个特征之间的线性关系，它可以为正数、负数或零。正协方差表示两个特征具有正相关关系，负协方差表示它们具有负相关关系，而零协方差表示它们之间没有线性关系。\n",
    "* 皮尔逊相关系数 (Pearson Correlation Coefficient, PCC)，简称相关性系数，是协方差的标准化版本，用于度量两个特征之间的线性关系的强度和方向。相关性系数在衡量线性关系时更常用，取值范围为-1 到 1，其中 1 表示完全正相关，-1 表示完全负相关，0 表示无线性关系。\n",
    "* 协方差矩阵 (covariance matrix) 是一个对称方阵，其中对角线元素为方差，其余元素表示不同特征之间的协方差。\n",
    "\n",
    "相关系数矩阵 (correlation matrix) 相当于是协方差矩阵的标准化版本。它的对角线元素为 1，其余元素为成对特征之间的相关性系数。\n",
    "\n",
    "从样本数据到某个统计量的过程，从数据角度来看，可以视作一种降维，也可以看成是折叠、压缩。"
   ]
  }
 ],
 "metadata": {
  "kernelspec": {
   "display_name": "myEnv",
   "language": "python",
   "name": "python3"
  },
  "language_info": {
   "name": "python",
   "version": "3.10.13"
  }
 },
 "nbformat": 4,
 "nbformat_minor": 2
}
